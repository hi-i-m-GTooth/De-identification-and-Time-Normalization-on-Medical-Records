{
 "cells": [
  {
   "cell_type": "code",
   "execution_count": 1,
   "metadata": {},
   "outputs": [],
   "source": [
    "import os"
   ]
  },
  {
   "cell_type": "code",
   "execution_count": 3,
   "metadata": {},
   "outputs": [],
   "source": [
    "# Paths\n",
    "DATA_DIR = '../data'\n",
    "RAW_DATA_DIR = '../raw_data'"
   ]
  },
  {
   "cell_type": "markdown",
   "metadata": {},
   "source": [
    "### Percentage of PHI cates"
   ]
  },
  {
   "cell_type": "code",
   "execution_count": 4,
   "metadata": {},
   "outputs": [],
   "source": [
    "from collections import Counter\n",
    "\n",
    "counters = Counter()\n",
    "\n",
    "path_valid_ans = os.path.join(RAW_DATA_DIR, \"valid/answer.txt\")\n",
    "f = open(path_valid_ans, \"r\")\n",
    "ls = f.readlines()\n",
    "f.close()\n",
    "\n",
    "for l in ls:\n",
    "    ts = l.strip().split(\"\\t\")\n",
    "    cate = ts[1]\n",
    "    counters[cate] += 1\n"
   ]
  },
  {
   "cell_type": "code",
   "execution_count": 24,
   "metadata": {},
   "outputs": [
    {
     "name": "stdout",
     "output_type": "stream",
     "text": [
      "|CATE of PHI        |# of Lines|(Percentage %)|\n",
      "==================================================\n",
      "|DOCTOR              |2191      |(24.74 %)|\n",
      "|DATE                |1616      |(18.25 %)|\n",
      "|IDNUM               |1177      |(13.29 %)|\n",
      "|HOSPITAL            |593       |(6.70 %)|\n",
      "|MEDICALRECORD       |563       |(6.36 %)|\n",
      "|PATIENT             |545       |(6.15 %)|\n",
      "|TIME                |418       |(4.72 %)|\n",
      "|DEPARTMENT          |366       |(4.13 %)|\n",
      "|CITY                |337       |(3.80 %)|\n",
      "|ZIP                 |325       |(3.67 %)|\n",
      "|STREET              |321       |(3.62 %)|\n",
      "|STATE               |310       |(3.50 %)|\n",
      "|AGE                 |57        |(0.64 %)|\n",
      "|ORGANIZATION        |24        |(0.27 %)|\n",
      "|DURATION            |6         |(0.07 %)|\n",
      "|LOCATION-OTHER      |4         |(0.05 %)|\n",
      "|PHONE               |2         |(0.02 %)|\n",
      "|COUNTRY             |2         |(0.02 %)|\n"
     ]
    }
   ],
   "source": [
    "# Count percentage of each category\n",
    "total = sum(counters.values())\n",
    "items = counters.items()\n",
    "items = sorted(items, key=lambda x: x[1], reverse=True)\n",
    "print(f\"{'|CATE of PHI':<20}|{'# of Lines':<10}|({'Percentage'} %)|\")\n",
    "print(\"=\"*50)\n",
    "for k, v in items:\n",
    "    print(f\"|{k:<20}|{v:<10}|({v*100/total:0.2f} %)|\")"
   ]
  },
  {
   "cell_type": "code",
   "execution_count": 25,
   "metadata": {},
   "outputs": [],
   "source": [
    "official_cates = \"\"\"PATIENT\n",
    "DOCTOR\n",
    "USERNAME\n",
    "PROFESSION\n",
    "ROOM\n",
    "DEPARTMENT\n",
    "HOSPITAL\n",
    "ORGANIZATION\n",
    "STREET\n",
    "CITY\n",
    "STATE\n",
    "COUNTRY\n",
    "ZIP\n",
    "LOCATION-OTHER\n",
    "AGE\n",
    "DATE\n",
    "TIME\n",
    "DURATION\n",
    "SET\n",
    "PHONE\n",
    "FAX\n",
    "EMAIL\n",
    "URL\n",
    "IPADDR\n",
    "SSN\n",
    "MEDICALRECORD\n",
    "HEALTHPLAN\n",
    "ACCOUNT\n",
    "LICENSE\n",
    "VECHICLE\n",
    "DEVICE\n",
    "BIOID\n",
    "IDNUM\"\"\".split(\"\\n\")"
   ]
  },
  {
   "cell_type": "code",
   "execution_count": 26,
   "metadata": {},
   "outputs": [
    {
     "name": "stdout",
     "output_type": "stream",
     "text": [
      "# intersection / # official : 18 / 33\n"
     ]
    }
   ],
   "source": [
    "# find intersection\n",
    "counters_cate = set(counters.keys())\n",
    "official_cate = set(official_cates)\n",
    "intersection = counters_cate.intersection(official_cate)\n",
    "print(f\"# intersection / # official : {len(intersection)} / {len(official_cate)}\")\n"
   ]
  },
  {
   "cell_type": "code",
   "execution_count": 29,
   "metadata": {},
   "outputs": [
    {
     "name": "stdout",
     "output_type": "stream",
     "text": [
      "BIOID, SET, ACCOUNT, LICENSE, IPADDR, VECHICLE, FAX, DEVICE, USERNAME, URL, HEALTHPLAN, PROFESSION, SSN, ROOM, EMAIL\n"
     ]
    }
   ],
   "source": [
    "not_occurred = official_cate - counters_cate\n",
    "print(', '.join(not_occurred))"
   ]
  },
  {
   "cell_type": "code",
   "execution_count": null,
   "metadata": {},
   "outputs": [],
   "source": []
  }
 ],
 "metadata": {
  "kernelspec": {
   "display_name": "aicup23",
   "language": "python",
   "name": "python3"
  },
  "language_info": {
   "codemirror_mode": {
    "name": "ipython",
    "version": 3
   },
   "file_extension": ".py",
   "mimetype": "text/x-python",
   "name": "python",
   "nbconvert_exporter": "python",
   "pygments_lexer": "ipython3",
   "version": "3.10.13"
  }
 },
 "nbformat": 4,
 "nbformat_minor": 2
}
